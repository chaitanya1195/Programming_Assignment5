{
 "cells": [
  {
   "cell_type": "code",
   "execution_count": 3,
   "id": "d8994982",
   "metadata": {},
   "outputs": [
    {
     "name": "stdout",
     "output_type": "stream",
     "text": [
      "enter a number to find LCM: 45\n",
      "enter a number to find LCM: 54\n",
      "The LCM is:  270\n"
     ]
    }
   ],
   "source": [
    "#1 Write a Python Program to Find LCM?\n",
    "\n",
    "n1 = int(input(\"enter a number to find LCM: \"))\n",
    "n2 = int(input(\"enter a number to find LCM: \"))\n",
    "\n",
    "if n1 > n2:\n",
    "    greater = n1\n",
    "else:\n",
    "    greater = n2\n",
    "    \n",
    "while(True):\n",
    "    if(greater % n1 ==0 and greater % n2 ==0):\n",
    "        lcm = greater\n",
    "        break\n",
    "    greater += 1\n",
    "\n",
    "print(\"The LCM is: \",lcm)\n",
    "    "
   ]
  },
  {
   "cell_type": "code",
   "execution_count": 12,
   "id": "5e7e7426",
   "metadata": {},
   "outputs": [
    {
     "name": "stdout",
     "output_type": "stream",
     "text": [
      " the number: 5\n",
      " the number: 6\n",
      "The H.C.F. is 1\n"
     ]
    }
   ],
   "source": [
    "#2 Write a Python Program to Find HCF?\n",
    "\n",
    "def compute_hcf(x, y):\n",
    "\n",
    "# choose the smaller number\n",
    "    if x > y:\n",
    "        smaller = y\n",
    "    else:\n",
    "        smaller = x\n",
    "    for i in range(1, smaller+1):\n",
    "        if((x % i == 0) and (y % i == 0)):\n",
    "            hcf = i \n",
    "    return hcf\n",
    "\n",
    "num1 =int(input(\" the number: \"))\n",
    "num2 = int(input(\" the number: \"))\n",
    "\n",
    "print(\"The H.C.F. is\", compute_hcf(num1, num2))"
   ]
  },
  {
   "cell_type": "code",
   "execution_count": 13,
   "id": "ea6401f2",
   "metadata": {},
   "outputs": [
    {
     "name": "stdout",
     "output_type": "stream",
     "text": [
      "Enter an integer: 54\n",
      "The decimal value of 54 is:\n",
      "0b110110 in binary.\n",
      "0o66 in octal.\n",
      "0x36 in hexadecimal.\n"
     ]
    }
   ],
   "source": [
    "#3 Write a Python Program to Convert Decimal to Binary, Octal and Hexadecimal?\n",
    "\n",
    "dec = int(input(\"Enter an integer: \"))\n",
    "\n",
    "print(\"The decimal value of\", dec, \"is:\")\n",
    "print(bin(dec), \"in binary.\")\n",
    "print(oct(dec), \"in octal.\")\n",
    "print(hex(dec), \"in hexadecimal.\")"
   ]
  },
  {
   "cell_type": "code",
   "execution_count": 19,
   "id": "e5d9f598",
   "metadata": {},
   "outputs": [
    {
     "name": "stdout",
     "output_type": "stream",
     "text": [
      "Please enter a character: D\n",
      "The ASCII value ofDis 68\n"
     ]
    }
   ],
   "source": [
    "#4 Write a Python Program to Find ASCII value of a character?\n",
    "\n",
    "x = input(\"Please enter a character: \")\n",
    "\n",
    "print(\"The ASCII value of\" + x + \"is\", ord(x))"
   ]
  },
  {
   "cell_type": "code",
   "execution_count": null,
   "id": "576253dc",
   "metadata": {},
   "outputs": [
    {
     "name": "stdout",
     "output_type": "stream",
     "text": [
      "select operator\n",
      "1.Add\n",
      "2.Substract\n",
      "3.multiplication\n",
      "4.division\n",
      "Enter choice(1/2/3/4)5\n",
      "Enter choice(1/2/3/4)2\n",
      "Enter first number: 5\n",
      "Enter second number: 8\n",
      "5.0 - 8.0 = -3.0\n",
      "Let's do next calculation? (yes/no): n0\n",
      "Invalid Input\n"
     ]
    }
   ],
   "source": [
    "#5 Write a Python Program to Make a Simple Calculator with 4 basic mathematical operations?\n",
    "\n",
    "#function for adding two numbers\n",
    "def add(x,y):\n",
    "    return x + y\n",
    "\n",
    "#function for subtracting two numbers\n",
    "def sub(x,y):\n",
    "    return x - y\n",
    "\n",
    "#function for multiplication two numbers\n",
    "def mul(x,y):\n",
    "    return x * y\n",
    "#function for division two numbers\n",
    "def div(x,y):\n",
    "    return x/y\n",
    "\n",
    "print(\"select operator\")\n",
    "print(\"1.Add\")\n",
    "print(\"2.Substract\")\n",
    "print(\"3.multiplication\")\n",
    "print(\"4.division\")\n",
    "\n",
    "while True:\n",
    "    choice = input(\"Enter choice(1/2/3/4)\")\n",
    "    \n",
    "    if choice in ('1', '2','3','4'):\n",
    "        num1 = float(input(\"Enter first number: \"))\n",
    "        num2 = float(input(\"Enter second number: \"))\n",
    "        \n",
    "        if choice == '1':\n",
    "            print(num1, \"+\", num2, \"=\",add(num1,num2))\n",
    "            \n",
    "        elif choice == '2':\n",
    "            print(num1, \"-\", num2, \"=\",sub(num1,num2))\n",
    "        \n",
    "        elif choice == '3':\n",
    "            print(num1, \"+\", num2, \"=\",mul(num1,num2))\n",
    "        \n",
    "        elif choice == '4':\n",
    "            print(num1, \"/\", num2, \"=\",div(num1,num2))\n",
    "            \n",
    "        next_calculation = input(\"Let's do next calculation? (yes/no): \")\n",
    "        if next_calculation == \"no\":\n",
    "            break\n",
    "    \n",
    "        else:\n",
    "            print(\"Invalid Input\")\n",
    "            \n",
    "        "
   ]
  },
  {
   "cell_type": "code",
   "execution_count": null,
   "id": "9835fbab",
   "metadata": {},
   "outputs": [],
   "source": []
  },
  {
   "cell_type": "code",
   "execution_count": null,
   "id": "37d5956c",
   "metadata": {},
   "outputs": [],
   "source": []
  }
 ],
 "metadata": {
  "kernelspec": {
   "display_name": "Python 3 (ipykernel)",
   "language": "python",
   "name": "python3"
  },
  "language_info": {
   "codemirror_mode": {
    "name": "ipython",
    "version": 3
   },
   "file_extension": ".py",
   "mimetype": "text/x-python",
   "name": "python",
   "nbconvert_exporter": "python",
   "pygments_lexer": "ipython3",
   "version": "3.9.12"
  }
 },
 "nbformat": 4,
 "nbformat_minor": 5
}
